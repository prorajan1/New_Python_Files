{
 "cells": [
  {
   "cell_type": "code",
   "execution_count": null,
   "id": "f538afb7",
   "metadata": {},
   "outputs": [],
   "source": [
    "def cal_fact(no):\n",
    "    i=no\n",
    "    fact = 1\n",
    "    while i >=1:\n",
    "        fact=fact*1\n",
    "        i=1\n",
    "       return fact\n",
    "        "
   ]
  },
  {
   "cell_type": "code",
   "execution_count": null,
   "id": "ba55a20f",
   "metadata": {},
   "outputs": [],
   "source": [
    "result=cal_fact(4)"
   ]
  },
  {
   "cell_type": "code",
   "execution_count": null,
   "id": "065992d2",
   "metadata": {},
   "outputs": [],
   "source": [
    "result()"
   ]
  },
  {
   "cell_type": "code",
   "execution_count": null,
   "id": "c30eebcb",
   "metadata": {},
   "outputs": [],
   "source": []
  }
 ],
 "metadata": {
  "kernelspec": {
   "display_name": "Python 3 (ipykernel)",
   "language": "python",
   "name": "python3"
  },
  "language_info": {
   "codemirror_mode": {
    "name": "ipython",
    "version": 3
   },
   "file_extension": ".py",
   "mimetype": "text/x-python",
   "name": "python",
   "nbconvert_exporter": "python",
   "pygments_lexer": "ipython3",
   "version": "3.11.0"
  }
 },
 "nbformat": 4,
 "nbformat_minor": 5
}
