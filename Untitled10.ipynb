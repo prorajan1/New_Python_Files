{
 "cells": [
  {
   "cell_type": "code",
   "execution_count": 92,
   "id": "a56f6b19",
   "metadata": {},
   "outputs": [],
   "source": [
    "def decor(fun):\n",
    "    def inner():\n",
    "        print(\"*\"*10)\n",
    "        fun()\n",
    "        print(\"*\"*10)\n",
    "    return inner\n",
    "\n",
    "\n",
    "@decor\n",
    "def rajan():\n",
    "    print(\"Hi Rajan\")"
   ]
  },
  {
   "cell_type": "code",
   "execution_count": 93,
   "id": "8cc292b9",
   "metadata": {},
   "outputs": [
    {
     "name": "stdout",
     "output_type": "stream",
     "text": [
      "**********\n",
      "Hi Rajan\n",
      "**********\n"
     ]
    }
   ],
   "source": [
    "rajan()"
   ]
  },
  {
   "cell_type": "code",
   "execution_count": 91,
   "id": "d4395576",
   "metadata": {},
   "outputs": [
    {
     "name": "stdout",
     "output_type": "stream",
     "text": [
      "**********\n",
      "Hi Rajan\n",
      "**********\n"
     ]
    }
   ],
   "source": [
    "res()"
   ]
  },
  {
   "cell_type": "code",
   "execution_count": 102,
   "id": "e28400a4",
   "metadata": {},
   "outputs": [],
   "source": [
    "@decor\n",
    "def addition():\n",
    "    a=int(input(\"Enter the first no:- \"))\n",
    "    b=int(input(\"Enter the second no:- \"))\n",
    "    c=a+b\n",
    "    print(f\"sum of {a} and {b} is {c}\") \n",
    "    print(\"Addition of {} and {} is {}\".format (a,b,c))"
   ]
  },
  {
   "cell_type": "code",
   "execution_count": 103,
   "id": "2d3b9449",
   "metadata": {},
   "outputs": [
    {
     "name": "stdout",
     "output_type": "stream",
     "text": [
      "**********\n",
      "Enter the first no:- 23\n",
      "Enter the second no:- 321\n",
      "sum of 23 and 321 is 344\n",
      "Addition of 23 and 321 is 344\n",
      "**********\n"
     ]
    }
   ],
   "source": [
    "addition()"
   ]
  },
  {
   "cell_type": "code",
   "execution_count": 114,
   "id": "6e835418",
   "metadata": {},
   "outputs": [],
   "source": [
    "a=[12,123,1,123,23,4,5,34]"
   ]
  },
  {
   "cell_type": "code",
   "execution_count": 115,
   "id": "eb226c51",
   "metadata": {},
   "outputs": [],
   "source": [
    "def sqr(t):\n",
    "    return(t*t)\n",
    "    "
   ]
  },
  {
   "cell_type": "code",
   "execution_count": 120,
   "id": "26e75ab4",
   "metadata": {},
   "outputs": [
    {
     "data": {
      "text/plain": [
       "[144, 15129, 1, 15129, 529, 16, 25, 1156]"
      ]
     },
     "execution_count": 120,
     "metadata": {},
     "output_type": "execute_result"
    }
   ],
   "source": [
    "list(map(lambda x:x*x,a))"
   ]
  },
  {
   "cell_type": "code",
   "execution_count": 122,
   "id": "aa7a8c87",
   "metadata": {},
   "outputs": [],
   "source": [
    "py=['java','python','c','ruby']"
   ]
  },
  {
   "cell_type": "code",
   "execution_count": 123,
   "id": "3f9d8a01",
   "metadata": {},
   "outputs": [
    {
     "data": {
      "text/plain": [
       "[4, 6, 1, 4]"
      ]
     },
     "execution_count": 123,
     "metadata": {},
     "output_type": "execute_result"
    }
   ],
   "source": [
    "list(map(lambda x:len(x),py))"
   ]
  },
  {
   "cell_type": "code",
   "execution_count": 124,
   "id": "6b038f97",
   "metadata": {},
   "outputs": [],
   "source": [
    "pylist=['rajan.pdf','aman.xlsx','karen.pdf','high.txt']"
   ]
  },
  {
   "cell_type": "code",
   "execution_count": 125,
   "id": "b22c6532",
   "metadata": {},
   "outputs": [
    {
     "data": {
      "text/plain": [
       "['rajan', 'aman', 'karen', 'high']"
      ]
     },
     "execution_count": 125,
     "metadata": {},
     "output_type": "execute_result"
    }
   ],
   "source": [
    "list(map(lambda x:x.split('.')[0],pylist))"
   ]
  },
  {
   "cell_type": "code",
   "execution_count": 130,
   "id": "a135bb0b",
   "metadata": {},
   "outputs": [
    {
     "data": {
      "text/plain": [
       "['rajan', 0, 'rajan', 0]"
      ]
     },
     "execution_count": 130,
     "metadata": {},
     "output_type": "execute_result"
    }
   ],
   "source": [
    "list(map(lambda x:'rajan' if x.endswith('pdf') else 0,pylist))"
   ]
  },
  {
   "cell_type": "code",
   "execution_count": null,
   "id": "c86bddac",
   "metadata": {},
   "outputs": [],
   "source": []
  },
  {
   "cell_type": "code",
   "execution_count": null,
   "id": "cbd3e5b7",
   "metadata": {},
   "outputs": [],
   "source": []
  }
 ],
 "metadata": {
  "kernelspec": {
   "display_name": "Python 3 (ipykernel)",
   "language": "python",
   "name": "python3"
  },
  "language_info": {
   "codemirror_mode": {
    "name": "ipython",
    "version": 3
   },
   "file_extension": ".py",
   "mimetype": "text/x-python",
   "name": "python",
   "nbconvert_exporter": "python",
   "pygments_lexer": "ipython3",
   "version": "3.11.3"
  }
 },
 "nbformat": 4,
 "nbformat_minor": 5
}
