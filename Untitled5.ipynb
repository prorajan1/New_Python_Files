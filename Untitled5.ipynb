{
 "cells": [
  {
   "cell_type": "code",
   "execution_count": 9,
   "id": "bf3bc4f4",
   "metadata": {},
   "outputs": [],
   "source": [
    "def rajan(no):\n",
    "    i=no\n",
    "    fact = 1\n",
    "    while i>=1:\n",
    "        fact=fact*i\n",
    "        i=1\n",
    "    return fact\n",
    "        "
   ]
  },
  {
   "cell_type": "code",
   "execution_count": null,
   "id": "b5f1e73b",
   "metadata": {},
   "outputs": [],
   "source": [
    "result=rajan(4)"
   ]
  },
  {
   "cell_type": "code",
   "execution_count": null,
   "id": "87806c4c",
   "metadata": {},
   "outputs": [],
   "source": [
    "result"
   ]
  },
  {
   "cell_type": "code",
   "execution_count": null,
   "id": "b5f15ab0",
   "metadata": {},
   "outputs": [],
   "source": []
  }
 ],
 "metadata": {
  "kernelspec": {
   "display_name": "Python 3 (ipykernel)",
   "language": "python",
   "name": "python3"
  },
  "language_info": {
   "codemirror_mode": {
    "name": "ipython",
    "version": 3
   },
   "file_extension": ".py",
   "mimetype": "text/x-python",
   "name": "python",
   "nbconvert_exporter": "python",
   "pygments_lexer": "ipython3",
   "version": "3.11.0"
  }
 },
 "nbformat": 4,
 "nbformat_minor": 5
}
