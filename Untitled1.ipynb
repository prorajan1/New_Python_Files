{
 "cells": [
  {
   "cell_type": "code",
   "execution_count": 24,
   "id": "1225f267",
   "metadata": {},
   "outputs": [],
   "source": [
    "def t1():\n",
    "    def inner():\n",
    "        print(\"Hi Zinjurde\")\n",
    "    return inner"
   ]
  },
  {
   "cell_type": "code",
   "execution_count": 25,
   "id": "a8811cfd",
   "metadata": {},
   "outputs": [],
   "source": [
    "r=t1()\n"
   ]
  },
  {
   "cell_type": "code",
   "execution_count": 26,
   "id": "164a7af9",
   "metadata": {},
   "outputs": [
    {
     "name": "stdout",
     "output_type": "stream",
     "text": [
      "Hi Zinjurde\n"
     ]
    }
   ],
   "source": [
    "r()"
   ]
  },
  {
   "cell_type": "code",
   "execution_count": null,
   "id": "a6c03d2f",
   "metadata": {},
   "outputs": [],
   "source": []
  }
 ],
 "metadata": {
  "kernelspec": {
   "display_name": "Python 3 (ipykernel)",
   "language": "python",
   "name": "python3"
  },
  "language_info": {
   "codemirror_mode": {
    "name": "ipython",
    "version": 3
   },
   "file_extension": ".py",
   "mimetype": "text/x-python",
   "name": "python",
   "nbconvert_exporter": "python",
   "pygments_lexer": "ipython3",
   "version": "3.11.0"
  }
 },
 "nbformat": 4,
 "nbformat_minor": 5
}
