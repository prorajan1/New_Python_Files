{
 "cells": [
  {
   "cell_type": "code",
   "execution_count": 2,
   "id": "e868d94f",
   "metadata": {},
   "outputs": [],
   "source": [
    "city=['Patna','Pune','Ahmedabad']\n",
    "subid=['351263','373321','327632']"
   ]
  },
  {
   "cell_type": "code",
   "execution_count": 7,
   "id": "22b18f47",
   "metadata": {},
   "outputs": [],
   "source": [
    "r=list(map(lambda x,y:x[0]+y+x[-1],city,subid))"
   ]
  },
  {
   "cell_type": "code",
   "execution_count": 8,
   "id": "ad826af1",
   "metadata": {},
   "outputs": [
    {
     "data": {
      "text/plain": [
       "['P351263a', 'P373321e', 'A327632d']"
      ]
     },
     "execution_count": 8,
     "metadata": {},
     "output_type": "execute_result"
    }
   ],
   "source": [
    "r"
   ]
  },
  {
   "cell_type": "code",
   "execution_count": null,
   "id": "5b73447a",
   "metadata": {},
   "outputs": [],
   "source": []
  },
  {
   "cell_type": "code",
   "execution_count": null,
   "id": "c2f2a3fc",
   "metadata": {},
   "outputs": [],
   "source": []
  }
 ],
 "metadata": {
  "kernelspec": {
   "display_name": "Python 3 (ipykernel)",
   "language": "python",
   "name": "python3"
  },
  "language_info": {
   "codemirror_mode": {
    "name": "ipython",
    "version": 3
   },
   "file_extension": ".py",
   "mimetype": "text/x-python",
   "name": "python",
   "nbconvert_exporter": "python",
   "pygments_lexer": "ipython3",
   "version": "3.11.0"
  }
 },
 "nbformat": 4,
 "nbformat_minor": 5
}
