{
 "cells": [
  {
   "cell_type": "code",
   "execution_count": 4,
   "id": "ce9026ea",
   "metadata": {},
   "outputs": [],
   "source": [
    "class Rajan:\n",
    "    sex='Male'\n",
    "    def __init__(self):\n",
    "        self.n=name\n",
    "        self.c=city\n",
    "        self.ca=caste\n",
    "        \n",
    "    def raj(self):\n",
    "        print(self.n)\n",
    "        print(self.c)\n",
    "        print(self.ca)\n",
    "        print(Rajan)\n",
    "        \n",
    "        "
   ]
  },
  {
   "cell_type": "code",
   "execution_count": 2,
   "id": "8fef19e9",
   "metadata": {},
   "outputs": [],
   "source": [
    "s=Rajan('aman','nwd','hindu')\n"
   ]
  },
  {
   "cell_type": "code",
   "execution_count": 3,
   "id": "3a1df3bc",
   "metadata": {},
   "outputs": [
    {
     "name": "stdout",
     "output_type": "stream",
     "text": [
      "aman\n",
      "nwd\n",
      "hindu\n",
      "Male\n"
     ]
    }
   ],
   "source": [
    "s.raj()"
   ]
  },
  {
   "cell_type": "code",
   "execution_count": 26,
   "id": "46c0f3d3",
   "metadata": {},
   "outputs": [],
   "source": [
    "r=Rajan('hira','pune','musli')"
   ]
  },
  {
   "cell_type": "code",
   "execution_count": 27,
   "id": "8c94eb7e",
   "metadata": {},
   "outputs": [
    {
     "name": "stdout",
     "output_type": "stream",
     "text": [
      "hira\n",
      "pune\n",
      "musli\n",
      "Male\n"
     ]
    }
   ],
   "source": [
    "r.raj()"
   ]
  }
 ],
 "metadata": {
  "kernelspec": {
   "display_name": "Python 3 (ipykernel)",
   "language": "python",
   "name": "python3"
  },
  "language_info": {
   "codemirror_mode": {
    "name": "ipython",
    "version": 3
   },
   "file_extension": ".py",
   "mimetype": "text/x-python",
   "name": "python",
   "nbconvert_exporter": "python",
   "pygments_lexer": "ipython3",
   "version": "3.11.0"
  }
 },
 "nbformat": 4,
 "nbformat_minor": 5
}
