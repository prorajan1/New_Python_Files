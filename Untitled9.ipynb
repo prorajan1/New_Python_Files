{
 "cells": [
  {
   "cell_type": "code",
   "execution_count": 2,
   "id": "954319d0",
   "metadata": {},
   "outputs": [],
   "source": [
    "def cal_fact(no):\n",
    "    i=no\n",
    "    fact = 1\n",
    "    while i >=1:\n",
    "        fact=fact*1\n",
    "        i=1\n",
    "    return fact"
   ]
  },
  {
   "cell_type": "code",
   "execution_count": null,
   "id": "943e320d",
   "metadata": {},
   "outputs": [],
   "source": [
    "r=cal_fact(6)"
   ]
  },
  {
   "cell_type": "code",
   "execution_count": null,
   "id": "7f8d24a4",
   "metadata": {},
   "outputs": [],
   "source": [
    "r"
   ]
  },
  {
   "cell_type": "code",
   "execution_count": null,
   "id": "04395258",
   "metadata": {},
   "outputs": [],
   "source": []
  }
 ],
 "metadata": {
  "kernelspec": {
   "display_name": "Python 3 (ipykernel)",
   "language": "python",
   "name": "python3"
  },
  "language_info": {
   "codemirror_mode": {
    "name": "ipython",
    "version": 3
   },
   "file_extension": ".py",
   "mimetype": "text/x-python",
   "name": "python",
   "nbconvert_exporter": "python",
   "pygments_lexer": "ipython3",
   "version": "3.11.0"
  }
 },
 "nbformat": 4,
 "nbformat_minor": 5
}
