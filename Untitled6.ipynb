{
 "cells": [
  {
   "cell_type": "code",
   "execution_count": 1,
   "id": "85fc9d04",
   "metadata": {},
   "outputs": [],
   "source": [
    "def rajan(no):\n",
    "    i=no\n",
    "    fact = 1\n",
    "    while i>=1:\n",
    "        fact=fact*i\n",
    "        i=1\n",
    "    return fact\n",
    "        "
   ]
  },
  {
   "cell_type": "code",
   "execution_count": null,
   "id": "3cc7a4c0",
   "metadata": {},
   "outputs": [],
   "source": [
    "result = rajan(8)"
   ]
  },
  {
   "cell_type": "code",
   "execution_count": null,
   "id": "fd3712dc",
   "metadata": {},
   "outputs": [],
   "source": [
    "result"
   ]
  },
  {
   "cell_type": "code",
   "execution_count": null,
   "id": "a5599be7",
   "metadata": {},
   "outputs": [],
   "source": [
    "a=12+12"
   ]
  },
  {
   "cell_type": "code",
   "execution_count": null,
   "id": "82ce5b87",
   "metadata": {},
   "outputs": [],
   "source": [
    "a"
   ]
  },
  {
   "cell_type": "code",
   "execution_count": null,
   "id": "4d589dfc",
   "metadata": {},
   "outputs": [],
   "source": []
  },
  {
   "cell_type": "code",
   "execution_count": null,
   "id": "6c1cac41",
   "metadata": {},
   "outputs": [],
   "source": []
  }
 ],
 "metadata": {
  "kernelspec": {
   "display_name": "Python 3 (ipykernel)",
   "language": "python",
   "name": "python3"
  },
  "language_info": {
   "codemirror_mode": {
    "name": "ipython",
    "version": 3
   },
   "file_extension": ".py",
   "mimetype": "text/x-python",
   "name": "python",
   "nbconvert_exporter": "python",
   "pygments_lexer": "ipython3",
   "version": "3.11.0"
  }
 },
 "nbformat": 4,
 "nbformat_minor": 5
}
