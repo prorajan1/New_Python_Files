{
 "cells": [
  {
   "cell_type": "code",
   "execution_count": 6,
   "id": "3dade155",
   "metadata": {},
   "outputs": [],
   "source": [
    "p=list(range(9))"
   ]
  },
  {
   "cell_type": "code",
   "execution_count": null,
   "id": "a2f3203d",
   "metadata": {},
   "outputs": [],
   "source": []
  },
  {
   "cell_type": "code",
   "execution_count": 7,
   "id": "50d92c70",
   "metadata": {},
   "outputs": [
    {
     "data": {
      "text/plain": [
       "[0, 1, 2, 3, 4, 5, 6, 7, 8]"
      ]
     },
     "execution_count": 7,
     "metadata": {},
     "output_type": "execute_result"
    }
   ],
   "source": [
    "p "
   ]
  },
  {
   "cell_type": "code",
   "execution_count": 63,
   "id": "b9f1504f",
   "metadata": {},
   "outputs": [],
   "source": [
    "def temp(n):\n",
    "    i=0\n",
    "    \n",
    "    while i<=n:\n",
    "        return i\n",
    "        i=i+1\n",
    "       \n",
    "        \n",
    "    "
   ]
  },
  {
   "cell_type": "code",
   "execution_count": 64,
   "id": "1ba5284a",
   "metadata": {},
   "outputs": [],
   "source": [
    "obj=temp(234)"
   ]
  },
  {
   "cell_type": "code",
   "execution_count": 74,
   "id": "178bfedb",
   "metadata": {},
   "outputs": [],
   "source": [
    "def test(n):\n",
    "    i=0\n",
    "    \n",
    "    while i<=n:\n",
    "        yield i\n",
    "        i=i+1"
   ]
  },
  {
   "cell_type": "code",
   "execution_count": 75,
   "id": "f39fd414",
   "metadata": {},
   "outputs": [],
   "source": [
    "p=test(20)\n"
   ]
  },
  {
   "cell_type": "code",
   "execution_count": 112,
   "id": "efc76742",
   "metadata": {},
   "outputs": [],
   "source": [
    "p=[213,3123212,32113,321]"
   ]
  },
  {
   "cell_type": "code",
   "execution_count": 114,
   "id": "3ab72f7d",
   "metadata": {},
   "outputs": [],
   "source": [
    "r=iter(p)"
   ]
  },
  {
   "cell_type": "code",
   "execution_count": 126,
   "id": "d3345433",
   "metadata": {},
   "outputs": [
    {
     "name": "stdout",
     "output_type": "stream",
     "text": [
      "213\n",
      "3123212\n",
      "32113\n",
      "321\n"
     ]
    }
   ],
   "source": [
    "for i in p:\n",
    "    print(i)"
   ]
  },
  {
   "cell_type": "code",
   "execution_count": 125,
   "id": "b8e2e99a",
   "metadata": {},
   "outputs": [
    {
     "data": {
      "text/plain": [
       "2132067"
      ]
     },
     "execution_count": 125,
     "metadata": {},
     "output_type": "execute_result"
    }
   ],
   "source": [
    "i"
   ]
  },
  {
   "cell_type": "code",
   "execution_count": 128,
   "id": "f6d19509",
   "metadata": {},
   "outputs": [
    {
     "ename": "NameError",
     "evalue": "name 'add' is not defined",
     "output_type": "error",
     "traceback": [
      "\u001b[1;31m---------------------------------------------------------------------------\u001b[0m",
      "\u001b[1;31mNameError\u001b[0m                                 Traceback (most recent call last)",
      "Cell \u001b[1;32mIn[128], line 1\u001b[0m\n\u001b[1;32m----> 1\u001b[0m \u001b[43madd\u001b[49m(\u001b[38;5;241m20\u001b[39m,\u001b[38;5;241m30\u001b[39m)\n",
      "\u001b[1;31mNameError\u001b[0m: name 'add' is not defined"
     ]
    }
   ],
   "source": [
    "add(20,30)"
   ]
  },
  {
   "cell_type": "code",
   "execution_count": 129,
   "id": "ec8b3c46",
   "metadata": {},
   "outputs": [],
   "source": [
    "class student:\n",
    "    def __init__(self):\n",
    "        print(\"Great Rajan\")\n",
    "    def raj():\n",
    "        print(\"Ok Rajan\")"
   ]
  },
  {
   "cell_type": "code",
   "execution_count": 136,
   "id": "3b8dd67e",
   "metadata": {},
   "outputs": [
    {
     "name": "stdout",
     "output_type": "stream",
     "text": [
      "Great Rajan\n"
     ]
    },
    {
     "data": {
      "text/plain": [
       "<__main__.student at 0x1f8ace19f90>"
      ]
     },
     "execution_count": 136,
     "metadata": {},
     "output_type": "execute_result"
    }
   ],
   "source": [
    "student()"
   ]
  },
  {
   "cell_type": "code",
   "execution_count": 134,
   "id": "40977e58",
   "metadata": {},
   "outputs": [
    {
     "name": "stdout",
     "output_type": "stream",
     "text": [
      "Ok Rajan\n"
     ]
    }
   ],
   "source": [
    "student.raj()"
   ]
  },
  {
   "cell_type": "code",
   "execution_count": 141,
   "id": "e9a15b3a",
   "metadata": {},
   "outputs": [],
   "source": [
    "class sistec:\n",
    "    def __init__(self,roll,name,address):\n",
    "        self.r=roll\n",
    "        self.n=name\n",
    "        self.adr=address\n",
    "        \n",
    "    def show(self):\n",
    "        print(self.r)\n",
    "        print(self.n)\n",
    "        print(self.adr)\n",
    "        \n",
    "        \n",
    "            \n",
    "    "
   ]
  },
  {
   "cell_type": "code",
   "execution_count": 142,
   "id": "d6f83b43",
   "metadata": {},
   "outputs": [],
   "source": [
    "s=sistec(102,'rajan','nawada')"
   ]
  },
  {
   "cell_type": "code",
   "execution_count": 144,
   "id": "cbd9d787",
   "metadata": {},
   "outputs": [
    {
     "name": "stdout",
     "output_type": "stream",
     "text": [
      "102\n",
      "rajan\n",
      "nawada\n"
     ]
    }
   ],
   "source": [
    "s.show()"
   ]
  },
  {
   "cell_type": "code",
   "execution_count": null,
   "id": "3eff970c",
   "metadata": {},
   "outputs": [],
   "source": []
  },
  {
   "cell_type": "code",
   "execution_count": null,
   "id": "368ea952",
   "metadata": {},
   "outputs": [],
   "source": []
  },
  {
   "cell_type": "code",
   "execution_count": null,
   "id": "e2c08139",
   "metadata": {},
   "outputs": [],
   "source": []
  },
  {
   "cell_type": "code",
   "execution_count": null,
   "id": "5cd29b5d",
   "metadata": {},
   "outputs": [],
   "source": []
  },
  {
   "cell_type": "code",
   "execution_count": null,
   "id": "940718ab",
   "metadata": {},
   "outputs": [],
   "source": []
  }
 ],
 "metadata": {
  "kernelspec": {
   "display_name": "Python 3 (ipykernel)",
   "language": "python",
   "name": "python3"
  },
  "language_info": {
   "codemirror_mode": {
    "name": "ipython",
    "version": 3
   },
   "file_extension": ".py",
   "mimetype": "text/x-python",
   "name": "python",
   "nbconvert_exporter": "python",
   "pygments_lexer": "ipython3",
   "version": "3.11.3"
  }
 },
 "nbformat": 4,
 "nbformat_minor": 5
}
