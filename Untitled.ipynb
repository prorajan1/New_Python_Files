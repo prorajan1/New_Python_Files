{
 "cells": [
  {
   "cell_type": "code",
   "execution_count": 29,
   "id": "d8c8cbbd",
   "metadata": {},
   "outputs": [],
   "source": [
    "class A:\n",
    "    def m1(self):\n",
    "        print(\"in m1\")\n",
    "    def m2(self):\n",
    "        print(\"in m2\")\n",
    "\n",
    "class B(A):\n",
    "    def m3(self):\n",
    "        print(\"in m3\")\n",
    "class C(B):\n",
    "    def m4(self):\n",
    "        print(\"in m4\")\n",
    "class D(C):\n",
    "    def m5(self):\n",
    "        print(\"in m5\")\n",
    "        \n",
    "\n"
   ]
  },
  {
   "cell_type": "code",
   "execution_count": null,
   "id": "44219ce6",
   "metadata": {},
   "outputs": [],
   "source": []
  },
  {
   "cell_type": "code",
   "execution_count": 26,
   "id": "4529278b",
   "metadata": {},
   "outputs": [],
   "source": [
    "r=D()\n"
   ]
  },
  {
   "cell_type": "code",
   "execution_count": 28,
   "id": "bf728e84",
   "metadata": {},
   "outputs": [
    {
     "name": "stdout",
     "output_type": "stream",
     "text": [
      "in m1\n",
      "in m2\n",
      "in m4\n",
      "in m5\n"
     ]
    }
   ],
   "source": [
    "r.m1()\n",
    "r.m2()\n",
    "r.m4()\n",
    "r.m5()"
   ]
  },
  {
   "cell_type": "code",
   "execution_count": null,
   "id": "c81a9cb8",
   "metadata": {},
   "outputs": [],
   "source": []
  }
 ],
 "metadata": {
  "kernelspec": {
   "display_name": "Python 3 (ipykernel)",
   "language": "python",
   "name": "python3"
  },
  "language_info": {
   "codemirror_mode": {
    "name": "ipython",
    "version": 3
   },
   "file_extension": ".py",
   "mimetype": "text/x-python",
   "name": "python",
   "nbconvert_exporter": "python",
   "pygments_lexer": "ipython3",
   "version": "3.11.0"
  }
 },
 "nbformat": 4,
 "nbformat_minor": 5
}
